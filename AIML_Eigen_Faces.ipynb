{
  "nbformat": 4,
  "nbformat_minor": 0,
  "metadata": {
    "colab": {
      "name": "M1W3_011_Eigen_Faces_C.ipynb",
      "provenance": [],
      "collapsed_sections": []
    },
    "kernelspec": {
      "display_name": "Python 3",
      "language": "python",
      "name": "python3"
    }
  },
  "cells": [
    {
      "cell_type": "markdown",
      "metadata": {
        "id": "HjrYIpy2yYbI"
      },
      "source": [
        "# Advanced Certification in AIML\n",
        "## A Program by IIIT-H and TalentSprint\n",
        "\n"
      ]
    },
    {
      "cell_type": "markdown",
      "metadata": {
        "id": "x77SzRGJcY3o"
      },
      "source": [
        "## Learning Objectives"
      ]
    },
    {
      "cell_type": "markdown",
      "metadata": {
        "id": "UKB4OmrMccgl"
      },
      "source": [
        "At the end of the experiment,  you will be able to :\n",
        "\n",
        "* Understand how Eigen faces can be used to represent the images"
      ]
    },
    {
      "cell_type": "code",
      "metadata": {
        "id": "jwYfFtWZobWW",
        "cellView": "form"
      },
      "source": [
        "#@title Experiment Walkthrough\n",
        "#@markdown Eigen Faces on Celebrity dataset\n",
        "\n",
        "from IPython.display import HTML\n",
        "HTML(\"\"\"<video width=\"420\" height=\"240\" controls>\n",
        "<source src=\"https://cdn.talentsprint.com/talentsprint/archives/sc/aiml/aiml_2018_b7_hyd/experiment_details_backup/eigen_faces_celebrity.mp4\" type=\"video/mp4\">\n",
        "</video>\"\"\")"
      ],
      "execution_count": null,
      "outputs": []
    },
    {
      "cell_type": "markdown",
      "metadata": {
        "id": "nFEZUAvJdXcW"
      },
      "source": [
        "## Dataset"
      ]
    },
    {
      "cell_type": "markdown",
      "metadata": {
        "id": "_reikMZBdZ0o"
      },
      "source": [
        "### Description \n",
        "\n",
        "The dataset choosen for this experiment is 10 celebrity faces dataset. The dataset contains 20 images for each celebrity.  \n",
        "\n",
        "The celebrity includes : \n",
        "\n",
        "* Aamir Khan\n",
        "* Madhuri_Dixit\n",
        "* Kamal Hassan\n",
        "* Virat Kohli\n",
        "* Amitabh Bachchan\n",
        "* Mahendra Singh Dhoni\n",
        "* A.P.J. Abdul Kalam\n",
        "* Preity Zinta\n",
        "* A.R. Rahman\n",
        "* Vidya Balan"
      ]
    },
    {
      "cell_type": "markdown",
      "metadata": {
        "id": "RlGNyzR5fsxQ"
      },
      "source": [
        "## AI / ML Technique"
      ]
    },
    {
      "cell_type": "markdown",
      "metadata": {
        "id": "Vy4vk5Fdfwg3"
      },
      "source": [
        "### Eigen Faces\n",
        "\n",
        "Eigenfaces is the name given to a set of eigenvectors when they are used in the computer vision problem of human face recognition. The approach of using eigenfaces for recognition was developed by Sirovich and Kirby (1987) and used by Matthew Turk and Alex Pentland in face classification. The eigenvectors are derived from the covariance matrix of the probability distribution over the high-dimensional vector space of face images. The eigenfaces themselves form a basis set of all images used to construct the covariance matrix. This produces dimension reduction by allowing the smaller set of basis images to represent the original training images. Classification can be achieved by comparing how faces are represented by the basis set."
      ]
    },
    {
      "cell_type": "markdown",
      "metadata": {
        "id": "UQA85gW4R43Z"
      },
      "source": [
        "Eigenfaces are images that can be added to a mean (average) face to create new facial images. We can write this mathematically as,\n",
        "\n",
        " \n",
        ">$ F=F_m+\\sum_{i=0}^n F_{i} \\alpha $\n",
        "\n",
        "\n",
        "\n",
        "where,\n",
        "\n",
        "F is a new face.\n",
        "F_m is the mean or the average face,\n",
        "F_i is an EigenFace,\n",
        "$\\alpha_i$ are scalar multipliers we can choose to create new faces. They can be positive or negative\n",
        "\n",
        "\n",
        " ![Alt text](https://www.learnopencv.com/wp-content/uploads/2018/01/EigenFace.jpg).\n",
        " \n",
        "  **Description of the image above:** On the left is the mean image. On the right is a new face produced by adding 10 Eigenfaces with different weights (shown in center).\n",
        "  \n",
        "  Eigenfaces are calculated by estimating the principal components of the dataset of facial images. They are used for applications like Face Recognition and Facial Landmark Detection.\n",
        "  \n"
      ]
    },
    {
      "cell_type": "markdown",
      "metadata": {
        "id": "B8qYnsBoyYbJ"
      },
      "source": [
        "### Setup Steps"
      ]
    },
    {
      "cell_type": "code",
      "metadata": {
        "id": "7-DpRtsCyxmz"
      },
      "source": [
        "#@title Please enter your registration id to start: { run: \"auto\", display-mode: \"form\" }\n",
        "Id = \"\" #@param {type:\"string\"}\n"
      ],
      "execution_count": null,
      "outputs": []
    },
    {
      "cell_type": "code",
      "metadata": {
        "id": "sbKdfXlRyyQI"
      },
      "source": [
        "#@title Please enter your password (normally your phone number) to continue: { run: \"auto\", display-mode: \"form\" }\n",
        "password = \"\" #@param {type:\"string\"}\n"
      ],
      "execution_count": null,
      "outputs": []
    },
    {
      "cell_type": "code",
      "metadata": {
        "id": "g5M8Fef5YEeh",
        "cellView": "form"
      },
      "source": [
        "#@title Run this cell to complete the setup for this Notebook\n",
        "from IPython import get_ipython\n",
        "\n",
        "ipython = get_ipython()\n",
        "  \n",
        "notebook=\"M1W3_011_Eigen_Faces_C\" #name of the notebook\n",
        "\n",
        "def setup():\n",
        "#  ipython.magic(\"sx pip3 install torch\") \n",
        "    ipython.magic(\"sx pip install imageio\")\n",
        "    ipython.magic(\"sx pip install scipy==1.00\")\n",
        "    #ipython.magic(\"sx wget https://cdn.talentsprint.com/Experiment_related_data/week3/Exp5/yalefaces.zip\")\n",
        "    ipython.magic(\"sx wget https://cdn.talentsprint.com/aiml/Experiment_related_data/BLR_Week3/faces.zip\")\n",
        "    ipython.magic(\"sx wget https://cdn.talentsprint.com/aiml/Experiment_related_data/BLR_Week3/output_new.zip\")\n",
        "    ipython.magic(\"sx unzip faces.zip\")\n",
        "    ipython.magic(\"sx unzip output_new.zip\")\n",
        "    from IPython.display import HTML, display\n",
        "    display(HTML('<script src=\"https://dashboard.talentsprint.com/aiml/record_ip.html?traineeId={0}&recordId={1}\"></script>'.format(getId(),submission_id)))\n",
        "    print(\"Setup completed successfully\")\n",
        "    return\n",
        "\n",
        "def submit_notebook():\n",
        "    \n",
        "    ipython.magic(\"notebook -e \"+ notebook + \".ipynb\")\n",
        "    \n",
        "    import requests, json, base64, datetime\n",
        "\n",
        "    url = \"https://dashboard.talentsprint.com/xp/app/save_notebook_attempts\"\n",
        "    if not submission_id:\n",
        "      data = {\"id\" : getId(), \"notebook\" : notebook, \"mobile\" : getPassword()}\n",
        "      r = requests.post(url, data = data)\n",
        "      r = json.loads(r.text)\n",
        "\n",
        "      if r[\"status\"] == \"Success\":\n",
        "          return r[\"record_id\"]\n",
        "      elif \"err\" in r:        \n",
        "        print(r[\"err\"])\n",
        "        return None        \n",
        "      else:\n",
        "        print (\"Something is wrong, the notebook will not be submitted for grading\")\n",
        "        return None\n",
        "\n",
        "    elif getAnswer() and getComplexity() and getAdditional() and getConcepts() and getWalkthrough() and getComments() and getInclassSupport() and getOnlineSupport():\n",
        "      f = open(notebook + \".ipynb\", \"rb\")\n",
        "      file_hash = base64.b64encode(f.read())\n",
        "\n",
        "      data = {\"complexity\" : Complexity, \"additional\" :Additional, \n",
        "              \"concepts\" : Concepts, \"record_id\" : submission_id, \n",
        "              \"answer\" : Answer, \"id\" : Id, \"file_hash\" : file_hash,\n",
        "              \"notebook\" : notebook, \"feedback_walkthrough\":Walkthrough ,\n",
        "              \"feedback_experiments_input\" : Comments,\n",
        "              \"feedback_inclass_mentor\": Inclass_support,\n",
        "              \"feedback_online_mentor\" : Online_support}\n",
        "\n",
        "      r = requests.post(url, data = data)\n",
        "      r = json.loads(r.text)\n",
        "      if \"err\" in r:        \n",
        "        print(r[\"err\"])\n",
        "        return None   \n",
        "      else:\n",
        "        print(\"Your submission is successful.\")\n",
        "        print(\"Ref Id:\", submission_id)\n",
        "        print(\"Date of submission: \", r[\"date\"])\n",
        "        print(\"Time of submission: \", r[\"time\"])\n",
        "        print(\"View your submissions: https://iiith-aiml.talentsprint.com/notebook_submissions\")\n",
        "        #print(\"For any queries/discrepancies, please connect with mentors through the chat icon in LMS dashboard.\")\n",
        "        return submission_id\n",
        "    else: submission_id\n",
        "    \n",
        "\n",
        "def getAdditional():\n",
        "  try:\n",
        "    if Additional: return Additional      \n",
        "    else: raise NameError('')\n",
        "  except NameError:\n",
        "    print (\"Please answer Additional Question\")\n",
        "    return None\n",
        "\n",
        "def getComplexity():\n",
        "  try:\n",
        "    return Complexity\n",
        "  except NameError:\n",
        "    print (\"Please answer Complexity Question\")\n",
        "    return None\n",
        "  \n",
        "def getConcepts():\n",
        "  try:\n",
        "    return Concepts\n",
        "  except NameError:\n",
        "    print (\"Please answer Concepts Question\")\n",
        "    return None\n",
        "  \n",
        "  \n",
        "def getWalkthrough():\n",
        "  try:\n",
        "    return Walkthrough\n",
        "  except NameError:\n",
        "    print (\"Please answer Walkthrough Question\")\n",
        "    return None\n",
        "  \n",
        "def getComments():\n",
        "  try:\n",
        "    return Comments\n",
        "  except NameError:\n",
        "    print (\"Please answer Comments Question\")\n",
        "    return None\n",
        "  \n",
        "def getInclassSupport():\n",
        "  try:\n",
        "    return Inclass_support\n",
        "  except NameError:\n",
        "    print (\"Please answer Inclass support Question\")\n",
        "    return None\n",
        "  \n",
        "  \n",
        "def getOnlineSupport():\n",
        "  try:\n",
        "    return Online_support\n",
        "  except NameError:\n",
        "    print (\"Please answer Online support Question\")\n",
        "    return None\n",
        "\n",
        "def getAnswer():\n",
        "  try:\n",
        "    return Answer\n",
        "  except NameError:\n",
        "    print (\"Please answer Question\")\n",
        "    return None\n",
        "  \n",
        "\n",
        "def getId():\n",
        "  try: \n",
        "    return Id if Id else None\n",
        "  except NameError:\n",
        "    return None\n",
        "\n",
        "def getPassword():\n",
        "  try:\n",
        "    return password if password else None\n",
        "  except NameError:\n",
        "    return None\n",
        "\n",
        "submission_id = None\n",
        "### Setup \n",
        "if getPassword() and getId():\n",
        "  submission_id = submit_notebook()\n",
        "  if submission_id:\n",
        "    setup() \n",
        "else:\n",
        "  print (\"Please complete Id and Password cells before running setup\")\n",
        "\n"
      ],
      "execution_count": null,
      "outputs": []
    },
    {
      "cell_type": "markdown",
      "metadata": {
        "id": "_R_HrXRcyYbL"
      },
      "source": [
        "#### Importing Required Packages"
      ]
    },
    {
      "cell_type": "code",
      "metadata": {
        "ExecuteTime": {
          "end_time": "2018-11-10T10:14:38.634026Z",
          "start_time": "2018-11-10T10:14:36.849351Z"
        },
        "id": "-uStJBuAyYbM"
      },
      "source": [
        "from scipy.misc import *\n",
        "from scipy import linalg\n",
        "import imageio\n",
        "import glob\n",
        "import numpy\n",
        "import os\n",
        "import pdb\n",
        "from matplotlib import pyplot as plt\n",
        "import warnings\n",
        "warnings.filterwarnings('ignore')"
      ],
      "execution_count": null,
      "outputs": []
    },
    {
      "cell_type": "markdown",
      "metadata": {
        "id": "v7X5Pn_4yYbS"
      },
      "source": [
        "#### Function to load the images from the directory"
      ]
    },
    {
      "cell_type": "code",
      "metadata": {
        "ExecuteTime": {
          "end_time": "2018-11-10T10:14:38.641356Z",
          "start_time": "2018-11-10T10:14:38.636827Z"
        },
        "id": "Zqcd5wdRyYbT"
      },
      "source": [
        "def load_images(directory):\n",
        "    # get a list of all the picture filenames\n",
        "    jpgs = glob.glob(directory + '/*')\n",
        "    #The line below might look long winded, but it basically trying to extract the name (say) Mahendra_Singh_Dhoni from a \n",
        "    #..path such as './faces/Mahendra_Singh_Dhoni_20.jpg' and then mapping this to unique id (such as 1)\n",
        "    label_dict = {label:index for index, label in enumerate(numpy.unique([''.join(i.split('/')[-1].split('.')[0].split('_')[:-1]) for i in jpgs]))}\n",
        "    #We use now the same logic as above, but this time to fetch the 'id' corresponding to the label in the dictionary created above\n",
        "    labels = [label_dict[''.join(i.split('/')[-1].split('.')[0].split('_')[:-1])] for i in jpgs]\n",
        "    # load a greyscale version of each image\n",
        "    imgs = numpy.array([imresize(imread(i, True), (224, 224)).flatten() for i in jpgs])\n",
        "    print(imgs.shape)\n",
        "    return imgs, labels"
      ],
      "execution_count": null,
      "outputs": []
    },
    {
      "cell_type": "markdown",
      "metadata": {
        "id": "Y4pTTR-qyYbY"
      },
      "source": [
        "#### Function to Calculate the eigen faces, weights for each image and mean"
      ]
    },
    {
      "cell_type": "markdown",
      "metadata": {
        "id": "j2xQmN7nOzW-"
      },
      "source": [
        "NOTE: We use SVD (Singular Value Decomposition) here to get our Eigen vector. It is important to note that another popular method of gettign the Eigen vectors is through PCA (Principal Component Analysis), where we perform 'Eigen Decomposition' over the co-variance matrix (which is constructed by multiplying the dataset with its own transpose after adjusting the mean). Please note however that most machine learning libraries help us find the Principal Components (Eigen vectors) simply through a function call (by using either methods mentioned)and hence it is important to focus on the idea of Principal components itself and how its useful for the ML model (as opposed to understanding the mathematics behind the same, especially if time is a premium) "
      ]
    },
    {
      "cell_type": "code",
      "metadata": {
        "ExecuteTime": {
          "end_time": "2018-11-10T10:14:38.650851Z",
          "start_time": "2018-11-10T10:14:38.645390Z"
        },
        "id": "Kv-ldbRryYbZ"
      },
      "source": [
        "def pca(data):\n",
        "    mu = numpy.mean(data, 0)\n",
        "    # mean adjust(ma) the data\n",
        "    ma_data = data - mu\n",
        "    # run SVD. The e_faces variable below is what is the Eigen Vectors (also called as Eigen Basis)\n",
        "    e_faces, sigma, v = linalg.svd(ma_data.transpose(), full_matrices=False)\n",
        "    # we project the mean adjusted data onto these new Eigen Vectors (or Eigen Basis) to get a weight in each of those directions\n",
        "    weights = numpy.dot(ma_data, e_faces)\n",
        "    return e_faces, weights, mu, v"
      ],
      "execution_count": null,
      "outputs": []
    },
    {
      "cell_type": "markdown",
      "metadata": {
        "id": "59RRRfteyYbd"
      },
      "source": [
        "#### Function to reconstruct the image . In this function we will be performing the dot product between weights and eigen face then adding the mean value."
      ]
    },
    {
      "cell_type": "code",
      "metadata": {
        "ExecuteTime": {
          "end_time": "2018-11-10T10:14:38.661614Z",
          "start_time": "2018-11-10T10:14:38.654933Z"
        },
        "id": "5L6R87DayYbf"
      },
      "source": [
        "def reconstruct(img_idx, e_faces, weights, mu, npcs):\n",
        "    # dot weights with the eigenfaces and add to. This should reconstruct the image back.\n",
        "    recon = mu + numpy.dot(weights[img_idx, 0:npcs], e_faces[:, 0:npcs].T)\n",
        "    return recon"
      ],
      "execution_count": null,
      "outputs": []
    },
    {
      "cell_type": "markdown",
      "metadata": {
        "id": "1zYbOfewyYbj"
      },
      "source": [
        "#### Function to save the image into a directory named \"image\""
      ]
    },
    {
      "cell_type": "code",
      "metadata": {
        "ExecuteTime": {
          "end_time": "2018-11-10T10:14:38.672375Z",
          "start_time": "2018-11-10T10:14:38.666442Z"
        },
        "id": "fsm2ROG9yYbk"
      },
      "source": [
        "def save_image(out_dir, subdir, img_id, img_dims, data):\n",
        "    directory = out_dir + \"/\" + subdir\n",
        "    if not os.path.exists(directory): os.makedirs(directory)\n",
        "    imsave(directory + \"/image_\" + str(img_id) + \".jpg\", data.reshape(img_dims))"
      ],
      "execution_count": null,
      "outputs": []
    },
    {
      "cell_type": "markdown",
      "metadata": {
        "id": "6kbkPEqoyYbp"
      },
      "source": [
        "#### Loading the new set of images"
      ]
    },
    {
      "cell_type": "code",
      "metadata": {
        "ExecuteTime": {
          "end_time": "2018-11-10T10:14:38.682960Z",
          "start_time": "2018-11-10T10:14:38.676256Z"
        },
        "id": "5ObhB08VyYbr"
      },
      "source": [
        "dir = \"./faces\""
      ],
      "execution_count": null,
      "outputs": []
    },
    {
      "cell_type": "code",
      "metadata": {
        "ExecuteTime": {
          "end_time": "2018-11-10T10:14:39.607060Z",
          "start_time": "2018-11-10T10:14:38.685983Z"
        },
        "id": "IMmZmGnKyYbv"
      },
      "source": [
        "data, labels = load_images(dir)"
      ],
      "execution_count": null,
      "outputs": []
    },
    {
      "cell_type": "code",
      "metadata": {
        "id": "DDEAYn57ePr2"
      },
      "source": [
        "labels"
      ],
      "execution_count": null,
      "outputs": []
    },
    {
      "cell_type": "code",
      "metadata": {
        "id": "6orf_y-znDp4"
      },
      "source": [
        "data.shape"
      ],
      "execution_count": null,
      "outputs": []
    },
    {
      "cell_type": "markdown",
      "metadata": {
        "id": "h3p88ADgyYb3"
      },
      "source": [
        "#### Calling the PCA function and storing the eigen faces, weights and mean values"
      ]
    },
    {
      "cell_type": "code",
      "metadata": {
        "ExecuteTime": {
          "end_time": "2018-11-10T10:14:39.615480Z",
          "start_time": "2018-11-10T10:14:39.611685Z"
        },
        "id": "IvMx0cVOyYb4"
      },
      "source": [
        "img_dims = (224,224)"
      ],
      "execution_count": null,
      "outputs": []
    },
    {
      "cell_type": "code",
      "metadata": {
        "ExecuteTime": {
          "end_time": "2018-11-10T10:14:41.705572Z",
          "start_time": "2018-11-10T10:14:39.620820Z"
        },
        "id": "yPo3Q14ayYb9"
      },
      "source": [
        "e_faces, weights, mu,v = pca(data)"
      ],
      "execution_count": null,
      "outputs": []
    },
    {
      "cell_type": "markdown",
      "metadata": {
        "id": "K42SjBYb3bjC"
      },
      "source": [
        "Plot of data in 2D in Eigen space"
      ]
    },
    {
      "cell_type": "code",
      "metadata": {
        "id": "m-5U38zgM6_4"
      },
      "source": [
        "weights.shape"
      ],
      "execution_count": null,
      "outputs": []
    },
    {
      "cell_type": "code",
      "metadata": {
        "id": "eXrwQcpS4vOJ"
      },
      "source": [
        "e_faces.shape"
      ],
      "execution_count": null,
      "outputs": []
    },
    {
      "cell_type": "markdown",
      "metadata": {
        "id": "lDPRtCBiV6UP"
      },
      "source": [
        "### We merely show here below about how the 'weights' (unique to each image) is a feature that is good to be used for classification purposes as well (the scope of this experiment is however not classification using Eigen faces)"
      ]
    },
    {
      "cell_type": "code",
      "metadata": {
        "id": "8aO-sCYrPYRg"
      },
      "source": [
        "X_train, y_train = weights, labels"
      ],
      "execution_count": null,
      "outputs": []
    },
    {
      "cell_type": "code",
      "metadata": {
        "id": "7J76oAZqNST2"
      },
      "source": [
        "from sklearn import tree\n",
        "clf = tree.DecisionTreeClassifier()\n",
        "clf = clf.fit(X_train, y_train)"
      ],
      "execution_count": null,
      "outputs": []
    },
    {
      "cell_type": "code",
      "metadata": {
        "id": "aodlE2xNNZ7E"
      },
      "source": [
        "pred_labels = clf.predict(X_train)"
      ],
      "execution_count": null,
      "outputs": []
    },
    {
      "cell_type": "code",
      "metadata": {
        "id": "fYt_B3QRNjD6"
      },
      "source": [
        "from sklearn.metrics import confusion_matrix\n",
        "from sklearn.metrics import accuracy_score"
      ],
      "execution_count": null,
      "outputs": []
    },
    {
      "cell_type": "code",
      "metadata": {
        "id": "Q3O-p9G_qo9y"
      },
      "source": [
        "accuracy_score(y_train, pred_labels, normalize=True)"
      ],
      "execution_count": null,
      "outputs": []
    },
    {
      "cell_type": "code",
      "metadata": {
        "id": "Pkm0-AK1NtEA"
      },
      "source": [
        "confusion_matrix(pred_labels, y_train)"
      ],
      "execution_count": null,
      "outputs": []
    },
    {
      "cell_type": "markdown",
      "metadata": {
        "id": "iwmMZ2P1WWWd"
      },
      "source": [
        "## Now we plot Eigen Faces(weights) on a simple 2D plot"
      ]
    },
    {
      "cell_type": "code",
      "metadata": {
        "id": "WyYvG68MfNEB"
      },
      "source": [
        "plt.scatter(weights[:, 0], weights[:, 1], c=labels, cmap='rainbow')\n",
        "plt.xlabel('z1')\n",
        "plt.ylabel('z2')\n",
        "plt.savefig('Faces_in_2d.png')"
      ],
      "execution_count": null,
      "outputs": []
    },
    {
      "cell_type": "markdown",
      "metadata": {
        "id": "5vYkgbM5xthL"
      },
      "source": [
        "### Eigen Value Spectrum (Note: we're using SVD here below to get the Eigen Values and Eigen Vectors). "
      ]
    },
    {
      "cell_type": "code",
      "metadata": {
        "id": "kYNCJtJwe3kD"
      },
      "source": [
        "mu = numpy.mean(data, 0)\n",
        "# mean adjust the data\n",
        "ma_data = data - mu\n",
        "Eigen_values, Eigen_vectors = numpy.linalg.eig(ma_data@ma_data.T)"
      ],
      "execution_count": null,
      "outputs": []
    },
    {
      "cell_type": "code",
      "metadata": {
        "id": "vSlGDwHc49AN"
      },
      "source": [
        "Eigen_values.shape,Eigen_vectors.shape"
      ],
      "execution_count": null,
      "outputs": []
    },
    {
      "cell_type": "code",
      "metadata": {
        "id": "-1-j52MngHGR"
      },
      "source": [
        "%matplotlib inline  \n",
        "\n",
        "fig = plt.figure()\n",
        "fig.set_size_inches(10,5)\n",
        "index = numpy.arange(len(Eigen_values[:20]))\n",
        "bar_width = 0.35\n",
        "opacity = 0.4\n",
        "error_config = {'ecolor': '0.3'}\n",
        "rects1 = plt.bar(index , Eigen_values[:20], bar_width,\n",
        "                 alpha=opacity,\n",
        "                 color='b',\n",
        "                 #yerr=std_e1,\n",
        "                 #error_kw=error_config,\n",
        "                 label='Eigen value Spectrum')\n",
        "plt.xticks(index, numpy.arange(Eigen_values.shape[0])+1,  rotation=90)\n",
        "plt.xlabel('r')\n",
        "plt.ylabel('Variance')\n",
        "#plt.legend()\n",
        "\n",
        "plt.tight_layout()\n",
        "plt.savefig('Eigen_values_spectrum.png')\n",
        "plt.show()"
      ],
      "execution_count": null,
      "outputs": []
    },
    {
      "cell_type": "code",
      "metadata": {
        "ExecuteTime": {
          "end_time": "2018-11-10T10:14:41.718140Z",
          "start_time": "2018-11-10T10:14:41.708464Z"
        },
        "id": "gfPMiHGayYcA"
      },
      "source": [
        "e_faces.shape"
      ],
      "execution_count": null,
      "outputs": []
    },
    {
      "cell_type": "markdown",
      "metadata": {
        "id": "-K6Sr-bkyYcG"
      },
      "source": [
        "#### Saving the mean image in output directory and displaying it"
      ]
    },
    {
      "cell_type": "code",
      "metadata": {
        "ExecuteTime": {
          "end_time": "2018-11-10T10:14:41.732815Z",
          "start_time": "2018-11-10T10:14:41.723105Z"
        },
        "id": "oX-V8HQqyYcH"
      },
      "source": [
        "imsave(\"output_new\" + \"/mean.jpg\", mu.reshape(img_dims))"
      ],
      "execution_count": null,
      "outputs": []
    },
    {
      "cell_type": "code",
      "metadata": {
        "ExecuteTime": {
          "end_time": "2018-11-10T10:14:41.994153Z",
          "start_time": "2018-11-10T10:14:41.736362Z"
        },
        "id": "gpT1rDhayYcM",
        "scrolled": false
      },
      "source": [
        "plt.grid(False)\n",
        "plt.imshow(mu.reshape(224, 224), cmap='gray')"
      ],
      "execution_count": null,
      "outputs": []
    },
    {
      "cell_type": "markdown",
      "metadata": {
        "id": "WhZ31S43yYcR"
      },
      "source": [
        "#### Storing the eigen faces as images in directory named \"output_new\" and display them here"
      ]
    },
    {
      "cell_type": "code",
      "metadata": {
        "ExecuteTime": {
          "end_time": "2018-11-10T10:14:42.600927Z",
          "start_time": "2018-11-10T10:14:42.001651Z"
        },
        "id": "iVnt1yJmyYcT",
        "scrolled": false
      },
      "source": [
        "for i in range(e_faces.shape[1]):\n",
        "    #continue\n",
        "    save_image(\"output_new\", \"eigenfaces\", i, img_dims, e_faces[:,i])"
      ],
      "execution_count": null,
      "outputs": []
    },
    {
      "cell_type": "code",
      "metadata": {
        "ExecuteTime": {
          "end_time": "2018-11-10T10:14:43.032634Z",
          "start_time": "2018-11-10T10:14:42.603953Z"
        },
        "id": "T7NJZTz_yYcY",
        "scrolled": false
      },
      "source": [
        "index = [0,99,149, 199]\n",
        "\n",
        "for j, i in enumerate(index) :\n",
        "    eigenface = \"output_new/eigenfaces/image_\"+str(i)+\".jpg\"\n",
        "    title = \"Eigen face \" + str(i+1)\n",
        "    plt.figure(figsize=(10,10))\n",
        "    plt.subplot(len(index), j+1,1 )\n",
        "    plt.axis('off')\n",
        "    plt.imshow(imread(eigenface, True), cmap='gray')\n",
        "    plt.title(title, size=10)\n",
        "    plt.show()"
      ],
      "execution_count": null,
      "outputs": []
    },
    {
      "cell_type": "markdown",
      "metadata": {
        "id": "FTg_5LJEyYcf"
      },
      "source": [
        "#### Checking the shape of a eigen face"
      ]
    },
    {
      "cell_type": "code",
      "metadata": {
        "ExecuteTime": {
          "end_time": "2018-11-10T10:14:43.049280Z",
          "start_time": "2018-11-10T10:14:43.036986Z"
        },
        "id": "xLag_LpfyYch"
      },
      "source": [
        "e_faces[:, :].shape"
      ],
      "execution_count": null,
      "outputs": []
    },
    {
      "cell_type": "markdown",
      "metadata": {
        "id": "LO7qZ_u_yYcm"
      },
      "source": [
        "### Select the number of principal components for reconstruction"
      ]
    },
    {
      "cell_type": "code",
      "metadata": {
        "ExecuteTime": {
          "end_time": "2018-11-10T10:14:43.057627Z",
          "start_time": "2018-11-10T10:14:43.053130Z"
        },
        "id": "BKab6uLPyYco"
      },
      "source": [
        "no_of_principal_components = 19"
      ],
      "execution_count": null,
      "outputs": []
    },
    {
      "cell_type": "code",
      "metadata": {
        "ExecuteTime": {
          "end_time": "2018-11-10T10:14:43.069375Z",
          "start_time": "2018-11-10T10:14:43.062911Z"
        },
        "id": "y4xgqgp5yYcs"
      },
      "source": [
        "img_id = 66"
      ],
      "execution_count": null,
      "outputs": []
    },
    {
      "cell_type": "code",
      "metadata": {
        "ExecuteTime": {
          "end_time": "2018-11-10T10:14:58.135707Z",
          "start_time": "2018-11-10T10:14:57.692885Z"
        },
        "id": "b7NyZCwsyYcw",
        "scrolled": true
      },
      "source": [
        "title = \"Original Image\" \n",
        "plt.figure(figsize=(3,3))\n",
        "plt.subplot(2, 1,1)\n",
        "plt.axis('off')\n",
        "plt.imshow(data[img_id].reshape(224,224), cmap='gray')\n",
        "plt.title(title, size=10)\n",
        "#print(weights[img_id])\n",
        "Normalised_weights = (weights[img_id]-numpy.mean(weights[img_id]))/numpy.std(weights[img_id])\n",
        "#print(Normalised_weights)\n",
        "for i in [9, 49,74,99,149]:\n",
        "    img = reconstruct(img_id, e_faces, weights, mu, i)# To understand what this function does, please read the function description\n",
        "    \n",
        "    img_dims = (224,224)\n",
        "    path = 'output_new/recon'\n",
        "    imsave(path+\"/recon\"+str(i+1)+\".jpg\", img.reshape(img_dims))\n",
        "    title = \"Reconstructed Image with {} Eigen Face\".format(i+1) \n",
        "    plt.figure(figsize=(3,3))\n",
        "    plt.subplot(2, 1,1)\n",
        "    plt.axis('off')\n",
        "    plt.imshow(img.reshape(224,224), cmap='gray')\n",
        "    plt.title(title, size=10)\n",
        "    plt.show()"
      ],
      "execution_count": null,
      "outputs": []
    },
    {
      "cell_type": "code",
      "metadata": {
        "id": "GCnZ4GAr0BJw"
      },
      "source": [
        "weights"
      ],
      "execution_count": null,
      "outputs": []
    },
    {
      "cell_type": "markdown",
      "metadata": {
        "id": "lVGFpUmG08ro"
      },
      "source": [
        "#### Please answer the questions below to complete the experiment:"
      ]
    },
    {
      "cell_type": "code",
      "metadata": {
        "id": "vac-i2x5ZaYB"
      },
      "source": [
        "#@title To reconstruct an image and be able to display it, the 'weights' and 'Eigen faces' alone are sufficient? (Refer the 'reconstrut' function above if needed){ run: \"auto\", form-width: \"500px\", display-mode: \"form\" }\n",
        "Answer = \"FALSE\" #@param [\"TRUE\", \"FALSE\"]"
      ],
      "execution_count": null,
      "outputs": []
    },
    {
      "cell_type": "code",
      "metadata": {
        "id": "JfvpVmQhyYc1"
      },
      "source": [
        "#@title How was the experiment? { run: \"auto\", form-width: \"500px\", display-mode: \"form\" }\n",
        "Complexity = \" \" #@param [\"Too Simple, I am wasting time\", \"Good, But Not Challenging for me\", \"Good and Challenging me\", \"Was Tough, but I did it\", \"Too Difficult for me\"]\n"
      ],
      "execution_count": null,
      "outputs": []
    },
    {
      "cell_type": "code",
      "metadata": {
        "id": "F2G0FSNH1FBv"
      },
      "source": [
        "#@title If it was very easy, what more you would have liked to have been added? If it was very difficult, what would you have liked to have been removed? { run: \"auto\", display-mode: \"form\" }\n",
        "Additional = \" \" #@param {type:\"string\"}"
      ],
      "execution_count": null,
      "outputs": []
    },
    {
      "cell_type": "code",
      "metadata": {
        "id": "qbYaj2Zn1IFU"
      },
      "source": [
        "#@title Can you identify the concepts from the lecture which this experiment covered? { run: \"auto\", vertical-output: true, display-mode: \"form\" }\n",
        "Concepts = \" \" #@param [\"Yes\", \"No\"]"
      ],
      "execution_count": null,
      "outputs": []
    },
    {
      "cell_type": "code",
      "metadata": {
        "id": "h4lU2c2LYhxy"
      },
      "source": [
        "#@title  Experiment walkthrough video? { run: \"auto\", vertical-output: true, display-mode: \"form\" }\n",
        "Walkthrough = \" \" #@param [\"Very Useful\", \"Somewhat Useful\", \"Not Useful\", \"Didn't use\"]\n"
      ],
      "execution_count": null,
      "outputs": []
    },
    {
      "cell_type": "code",
      "metadata": {
        "id": "FR4spCakYh6Y"
      },
      "source": [
        "#@title  Text and image description/explanation and code comments within the experiment: { run: \"auto\", vertical-output: true, display-mode: \"form\" }\n",
        "Comments = \" \" #@param [\"Very Useful\", \"Somewhat Useful\", \"Not Useful\", \"Didn't use\"]\n"
      ],
      "execution_count": null,
      "outputs": []
    },
    {
      "cell_type": "code",
      "metadata": {
        "id": "jBPHpurJYiDz"
      },
      "source": [
        "#@title In class Mentor Support: { run: \"auto\", vertical-output: true, display-mode: \"form\" }\n",
        "Inclass_support = \" \" #@param [\"Very Useful\", \"Somewhat Useful\", \"Not Useful\", \"Didn't use\"]\n"
      ],
      "execution_count": null,
      "outputs": []
    },
    {
      "cell_type": "code",
      "metadata": {
        "id": "MVQ7VeMAYiPP"
      },
      "source": [
        "#@title Online Mentor Support: { run: \"auto\", vertical-output: true, display-mode: \"form\" }\n",
        "Online_support = \" \" #@param [\"Very Useful\", \"Somewhat Useful\", \"Not Useful\", \"Didn't use\"]\n"
      ],
      "execution_count": null,
      "outputs": []
    },
    {
      "cell_type": "code",
      "metadata": {
        "cellView": "form",
        "id": "nZPXEBVk1LsD"
      },
      "source": [
        "#@title Run this cell to submit your notebook for grading { vertical-output: true }\n",
        "try:\n",
        "  if submission_id:\n",
        "      return_id = submit_notebook()\n",
        "      if return_id : submission_id =return_id\n",
        "  else:\n",
        "      print(\"Please complete the setup first.\")\n",
        "except NameError:\n",
        "  print (\"Please complete the setup first.\")"
      ],
      "execution_count": null,
      "outputs": []
    }
  ]
}